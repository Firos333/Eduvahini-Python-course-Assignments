{
 "cells": [
  {
   "cell_type": "markdown",
   "metadata": {},
   "source": [
    "Graded Assignment 9\n",
    "\n",
    "ALGORITHM : 1\n",
    "\n",
    "PROBLEM STATEMENT\n",
    "\n",
    "\n",
    "Given an array of non-negative integers, you are initially positioned at the first index of the array.\n",
    "\n",
    "Each element in the array represents your maximum jump length at that position.\n",
    "\n",
    "Your goal is to reach the last index in the minimum number of jumps.\n"
   ]
  },
  {
   "cell_type": "code",
   "execution_count": 14,
   "metadata": {},
   "outputs": [
    {
     "name": "stdout",
     "output_type": "stream",
     "text": [
      "Minimum number of jumps to reach end is  2 \n"
     ]
    }
   ],
   "source": [
    "\n",
    "def minJumps(arr, n): \n",
    "\n",
    "  if (n <= 1): \n",
    "    return 0\n",
    "\n",
    "  if (arr[0] == 0): \n",
    "    return -1\n",
    "\n",
    "  maxReach = arr[0]   \n",
    "\n",
    "  step = arr[0] \n",
    "\n",
    "  jump = 1 \n",
    "   \n",
    "\n",
    "   \n",
    "  for i in range(1, n): \n",
    "\n",
    "    if (i == n-1): \n",
    "      return jump \n",
    "\n",
    "    maxReach = max(maxReach, i + arr[i]) \n",
    "\n",
    "    step -= 1; \n",
    "   \n",
    "    if (step == 0): \n",
    "\n",
    "      jump += 1\n",
    "\n",
    "      if(i >= maxReach): \n",
    "        return -1\n",
    "      step = maxReach - i; \n",
    "  return -1\n",
    "\n",
    "arr = [1, 3, 5, 8, 9] \n",
    "size = len(arr) \n",
    "\n",
    "print(\"Minimum number of jumps to reach end is % d \" % minJumps(arr, size)) \n"
   ]
  },
  {
   "cell_type": "markdown",
   "metadata": {},
   "source": [
    "Graded Assignment 10\n",
    "\n",
    "ALGORITHM : 2\n",
    "\n",
    "PROBLEM STATEMENT\n",
    "\n",
    "\n",
    "\n",
    "Given an array of strings, group anagrams together.\n",
    "\n",
    "(An anagram is a word or phrase formed by rearranging the letters of a different word or phrase, typically using all the original letters exactly once)\n",
    "\n",
    "\n",
    "Example:\n",
    "\n",
    "Input: ['eat', 'tea', 'tan', 'ate', 'nat', 'bat']\n",
    "\n",
    "Output: [['eat', 'ate', 'tea'], ['tan', 'nat'], ['bat']]\n"
   ]
  },
  {
   "cell_type": "code",
   "execution_count": 42,
   "metadata": {},
   "outputs": [
    {
     "name": "stdout",
     "output_type": "stream",
     "text": [
      "[['eat', 'tea', 'ate'], ['tan', 'nat'], ['bat']]\n"
     ]
    }
   ],
   "source": [
    "import collections\n",
    "\n",
    "\n",
    "class Solution(object):\n",
    "    def groupAnagrams(self, strs):\n",
    "        ans = collections.defaultdict(list)\n",
    "        for s in strs:\n",
    "            ans[tuple(sorted(s))].append(s)\n",
    "        return ans.values()\n",
    "    \n",
    "inputs=['eat', 'tea', 'tan', 'ate', 'nat', 'bat']\n",
    "\n",
    "tem=Solution()\n",
    "\n",
    "answer=tem.groupAnagrams(inputs)\n",
    "print(list(answer))\n"
   ]
  },
  {
   "cell_type": "code",
   "execution_count": 32,
   "metadata": {},
   "outputs": [
    {
     "name": "stdout",
     "output_type": "stream",
     "text": [
      "['cat', 'tac', 'act', 'dog', 'god']\n"
     ]
    }
   ],
   "source": [
    "#or\n",
    "\n",
    "class Word(object):\n",
    "    def __init__(self, string, index):\n",
    "        self.string = string\n",
    "        self.index = index\n",
    "\n",
    "def createDupArray(string, size):\n",
    "    dupArray = []\n",
    "    for i in range(size):\n",
    "        dupArray.append(Word(string[i], i))\n",
    "    return dupArray\n",
    "\n",
    "def Anagrams(wordArr, size):\n",
    "    dupArray = createDupArray(wordArr, size)\n",
    "    for i in range(size):\n",
    "        dupArray[i].string = ''.join(sorted(dupArray[i].string))\n",
    "    dupArray = sorted(dupArray, key = lambda k: k.string)\n",
    "    answer=[]\n",
    "    for word in dupArray:\n",
    "        answer.append(wordArr[word.index])\n",
    "    return answer\n",
    "\n",
    "wordArr = [\"cat\", \"dog\", \"tac\", \"god\", \"act\"]\n",
    "size = len(wordArr)\n",
    "t=Anagrams(wordArr, size)\n",
    "print(t)\n"
   ]
  },
  {
   "cell_type": "code",
   "execution_count": null,
   "metadata": {},
   "outputs": [],
   "source": []
  }
 ],
 "metadata": {
  "kernelspec": {
   "display_name": "Python 3",
   "language": "python",
   "name": "python3"
  },
  "language_info": {
   "codemirror_mode": {
    "name": "ipython",
    "version": 3
   },
   "file_extension": ".py",
   "mimetype": "text/x-python",
   "name": "python",
   "nbconvert_exporter": "python",
   "pygments_lexer": "ipython3",
   "version": "3.7.4"
  }
 },
 "nbformat": 4,
 "nbformat_minor": 2
}
