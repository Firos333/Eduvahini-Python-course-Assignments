{
 "cells": [
  {
   "cell_type": "markdown",
   "metadata": {},
   "source": [
    "Graded Assignment 11\n",
    "\n",
    "AFPDSMRE : 1\n",
    "\n",
    "PROBLEM STATEMENT\n",
    "\n",
    "\n",
    "Transpose a matrix using list comprehension\n"
   ]
  },
  {
   "cell_type": "code",
   "execution_count": 8,
   "metadata": {},
   "outputs": [
    {
     "name": "stdout",
     "output_type": "stream",
     "text": [
      "[[1, 5, 9], [2, 6, 10], [3, 7, 11], [4, 8, 12]]\n"
     ]
    }
   ],
   "source": [
    "Matrix =[[1,2,3,4],\n",
    "        [5,6,7,8],\n",
    "        [9,10,11,12]]\n",
    "\n",
    "Matrix_transposed = [[row[i] for row in Matrix] for i in range(max(len(r) for r in Matrix))]\n",
    "\n",
    "print(Matrix_transposed)"
   ]
  },
  {
   "cell_type": "markdown",
   "metadata": {},
   "source": [
    "Graded Assignment 12\n",
    "\n",
    "AFPDSMRE : 2\n",
    "\n",
    "PROBLEM STATEMENT\n",
    "\n",
    "Write a regex for email address verification.\n",
    "\n",
    "A valid email address has four parts:\n",
    "Recipient name\n",
    "@ symbol\n",
    "Domain name\n",
    "Top-level domain\n",
    "The recipient name may be a maximum of 64 characters long and consist of:\n",
    "\n",
    "\n",
    "Uppercase and lowercase letters in English (A-Z, a-z)\n",
    "Digits from 0 to 9\n",
    "Special characters such as ! # $ % & ' * + - / = ? ^ _ ` { |\n",
    "A special character cannot appear as the first or last character in an email address or  appear consecutively two or more times. \n",
    "\n",
    "For TLD and domain names need to be string.\n"
   ]
  },
  {
   "cell_type": "code",
   "execution_count": 28,
   "metadata": {},
   "outputs": [
    {
     "name": "stdout",
     "output_type": "stream",
     "text": [
      "Enter email address for verification: main@$$.com\n",
      "Invalid Email\n"
     ]
    }
   ],
   "source": [
    "\n",
    "import re \n",
    "regex = '^[A-Z0-9][A-Z0-9._%+-]{0,63}@(?:(?=[A-Z0-9-]{1,63}\\.)[A-Z0-9]+(?:-[A-Z0-9]+)*\\.){1,8}[A-Z]{2,63}$'\n",
    "def check(email):  \n",
    "    if(re.search(regex,email)):  \n",
    "        return(\"Valid Email\")           \n",
    "    else:  \n",
    "        return(\"Invalid Email\")  \n",
    "      \n",
    "if __name__ == '__main__' :  \n",
    "\n",
    "    email = input('Enter email address for verification: ')\n",
    "    res=check(email) \n",
    "    print(res)\n"
   ]
  },
  {
   "cell_type": "code",
   "execution_count": null,
   "metadata": {},
   "outputs": [],
   "source": []
  }
 ],
 "metadata": {
  "kernelspec": {
   "display_name": "Python 3",
   "language": "python",
   "name": "python3"
  },
  "language_info": {
   "codemirror_mode": {
    "name": "ipython",
    "version": 3
   },
   "file_extension": ".py",
   "mimetype": "text/x-python",
   "name": "python",
   "nbconvert_exporter": "python",
   "pygments_lexer": "ipython3",
   "version": "3.7.4"
  }
 },
 "nbformat": 4,
 "nbformat_minor": 2
}
