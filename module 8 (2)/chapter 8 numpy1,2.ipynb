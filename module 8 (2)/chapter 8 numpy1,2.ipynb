{
 "cells": [
  {
   "cell_type": "markdown",
   "metadata": {},
   "source": [
    "Graded Assignment 13\n",
    "\n",
    "NPL : 1\n",
    "\n",
    "PROBLEM STATEMENT\n",
    "\n",
    "Write a NumPy program to calculate the difference between the maximum and the minimum values of a given array along the second axis\n"
   ]
  },
  {
   "cell_type": "code",
   "execution_count": 3,
   "metadata": {},
   "outputs": [
    {
     "name": "stdout",
     "output_type": "stream",
     "text": [
      "given array:\n",
      " [[100, 20, 305], [200, 40, 300]]\n",
      "difference:\n",
      " [285 260]\n"
     ]
    }
   ],
   "source": [
    "import numpy as np\n",
    "\n",
    "array_in=[[100, 20, 305], \n",
    "          [ 200, 40, 300]]\n",
    "\n",
    "x = np.array(array_in) \n",
    "print(\"given array:\\n\", array_in)\n",
    "max1 = np.amax(x ,1) \n",
    "min1 = np.amin(x, 1) \n",
    "print(\"difference:\\n\", max1 - min1)"
   ]
  },
  {
   "cell_type": "markdown",
   "metadata": {},
   "source": [
    "Graded Assignment 14\n",
    "\n",
    "NPL : 2\n",
    "\n",
    "PROBLEM STATEMENT\n",
    "\n",
    "Write a Pandas program to get a time series with the last working days of each month of a specific year.\n",
    "\n",
    "\n"
   ]
  },
  {
   "cell_type": "code",
   "execution_count": 13,
   "metadata": {},
   "outputs": [
    {
     "name": "stdout",
     "output_type": "stream",
     "text": [
      "Enter a specific year:2020\n",
      "last working days of each month of a specific year:\n",
      "         Date\n",
      "0  2020-01-31\n",
      "1  2020-02-28\n",
      "2  2020-03-31\n",
      "3  2020-04-30\n",
      "4  2020-05-29\n",
      "5  2020-06-30\n",
      "6  2020-07-31\n",
      "7  2020-08-31\n",
      "8  2020-09-30\n",
      "9  2020-10-30\n",
      "10 2020-11-30\n",
      "11 2020-12-31\n"
     ]
    }
   ],
   "source": [
    "import pandas as pd\n",
    "\n",
    "while True:\n",
    "    try:\n",
    "        year = int(input('Enter a specific year:')) \n",
    "        break\n",
    "    except ValueError:\n",
    "        print(\"Not an valid year.. pls give as integer.\")\n",
    "        continue\n",
    "s = pd.date_range(str(year)+'-01-01', periods=12, freq='BM')\n",
    "df = pd.DataFrame(s, columns=['Date'])\n",
    "print('last working days of each month of a specific year:')\n",
    "print(df)"
   ]
  },
  {
   "cell_type": "code",
   "execution_count": null,
   "metadata": {},
   "outputs": [],
   "source": []
  }
 ],
 "metadata": {
  "kernelspec": {
   "display_name": "Python 3",
   "language": "python",
   "name": "python3"
  },
  "language_info": {
   "codemirror_mode": {
    "name": "ipython",
    "version": 3
   },
   "file_extension": ".py",
   "mimetype": "text/x-python",
   "name": "python",
   "nbconvert_exporter": "python",
   "pygments_lexer": "ipython3",
   "version": "3.7.4"
  }
 },
 "nbformat": 4,
 "nbformat_minor": 2
}
