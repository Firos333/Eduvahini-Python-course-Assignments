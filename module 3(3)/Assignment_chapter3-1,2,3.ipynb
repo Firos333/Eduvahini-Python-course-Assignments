{
 "cells": [
  {
   "cell_type": "markdown",
   "metadata": {},
   "source": [
    "Graded Assignment 1\n",
    "\n",
    "CSFF : 1\n",
    "\n",
    "PROBLEM STATEMENT\n",
    "\n",
    "1. Write a program that takes a number N as input from the user and prints pascal’s triangle of N height/steps. \n",
    "\n",
    "Pascal's triangle is a triangular array constructed by summing adjacent elements in preceding rows.\n",
    "\n",
    "For example if N = 4"
   ]
  },
  {
   "cell_type": "markdown",
   "metadata": {},
   "source": [
    "Answer:"
   ]
  },
  {
   "cell_type": "code",
   "execution_count": null,
   "metadata": {
    "scrolled": true
   },
   "outputs": [],
   "source": [
    "def printPascal(n) : \n",
    "    for line in range(0, n) : \n",
    "        for i in range(0, line + 1) : \n",
    "            print(binomialCoeff(line, i), \n",
    "                \" \", end = \"\") \n",
    "        print() \n",
    "        \n",
    "def binomialCoeff(n, k) : \n",
    "    res = 1\n",
    "    if (k > n - k) : \n",
    "        k = n - k \n",
    "    for i in range(0 , k) : \n",
    "        res = res * (n - i) \n",
    "        res = res // (i + 1) \n",
    "      \n",
    "    return res \n",
    "\n",
    "\n",
    "while True:\n",
    "    try:\n",
    "        userInput = int(input('Enter a number'))       \n",
    "    except ValueError:\n",
    "        print(\"Not an integer! Try again.\")\n",
    "        continue\n",
    "    else:\n",
    "        printPascal(userInput) \n",
    "        break \n",
    "        \n",
    "    \n",
    "  "
   ]
  },
  {
   "cell_type": "markdown",
   "metadata": {},
   "source": [
    "Graded Assignment 2\n",
    "\n",
    "CSFF : 2\n",
    "\n",
    "PROBLEM STATEMENT\n",
    "\n",
    "1. Write a program that :\n",
    "\n",
    "Takes a list of cities as input (ask user if they want to add more city after each entry i.e. once user presses ‘Enter’)\n",
    "\n",
    "Creates a folder in pwd (present working directory) named ‘cities’, then creates a file with names as first characters of cities and write the names of all the cities starting with that character"
   ]
  },
  {
   "cell_type": "markdown",
   "metadata": {},
   "source": [
    "Answer:"
   ]
  },
  {
   "cell_type": "code",
   "execution_count": null,
   "metadata": {
    "scrolled": false
   },
   "outputs": [],
   "source": [
    "import os\n",
    "import shutil\n",
    "\n",
    "#Delete folder if exist\n",
    "dirpath = os.path.join('cities')\n",
    "if os.path.exists(dirpath) and os.path.isdir(dirpath):\n",
    "    shutil.rmtree(dirpath)\n",
    "    \n",
    "#create a new folder\n",
    "os.system(\"mkdir cities\")\n",
    "\n",
    "        \n",
    "items=[]\n",
    "firstletterlist = []\n",
    "i=1\n",
    "item=input('Enter The City name %d: '%i)\n",
    "items.append(item)\n",
    "firstletterlist.append(item[0].upper())\n",
    "\n",
    "while 1:\n",
    "    i+=1\n",
    "    item=input('Type Name of city number %d for adding ? or press enter to skip: '%i)\n",
    "    if item=='':\n",
    "        break\n",
    "    items.append(item)\n",
    "    firstletterlist.append(item[0].upper())\n",
    "print(firstletterlist)\n",
    "\n",
    "for l in firstletterlist:\n",
    "    file = open(\"Cities/\"+l+\".txt\", \"w+\") \n",
    "    for i in items:\n",
    "        if i[0]==l.lower():  #write txt file\n",
    "            file.write(i) \n",
    "            file.write(\"\\n\")\n",
    "    file.close() "
   ]
  },
  {
   "cell_type": "markdown",
   "metadata": {},
   "source": [
    "Graded Assignment 3\n",
    "\n",
    "CSFF : 3\n",
    "\n",
    "PROBLEM STATEMENT\n",
    "\n",
    "\n",
    "1. Write a function that takes a variable number of lists as input, the lists will contain runs scored by players in an over (i.e. 6 entries). The function should assume the first entry is for Player1, second entry is for Player 2 and so on…\n",
    "\n"
   ]
  },
  {
   "cell_type": "markdown",
   "metadata": {},
   "source": [
    "Answer:"
   ]
  },
  {
   "cell_type": "code",
   "execution_count": 3,
   "metadata": {
    "scrolled": true
   },
   "outputs": [
    {
     "name": "stdout",
     "output_type": "stream",
     "text": [
      "Enter the run scored by player 1 ball 1 : 8\n",
      "Enter the run scored by player 1 ball 2 : h\n",
      "Not an integer! Try again.\n",
      "Enter the run scored by player 1 ball 2 : 7\n",
      "Enter the run scored by player 1 ball 3 : 8\n",
      "Enter the run scored by player 1 ball 4 : 8\n",
      "Enter the run scored by player 1 ball 5 : 8\n",
      "Enter the run scored by player 1 ball 6 : 7\n",
      "over completed(max of 6 balls) d u want to enter for player2? type y/ny\n",
      "Enter the run scored by player 2 ball 1 : u\n",
      "Not an integer! Try again.\n",
      "Enter the run scored by player 2 ball 1 : 8\n",
      "Enter the run scored by player 2 ball 2 : \n",
      "Not an integer! Try again.\n",
      "Enter the run scored by player 2 ball 2 : 7\n",
      "Enter the run scored by player 2 ball 3 : 7\n",
      "Enter the run scored by player 2 ball 4 : 8\n",
      "Enter the run scored by player 2 ball 5 : 9\n",
      "Enter the run scored by player 2 ball 6 : 0\n",
      "over completed(max of 6 balls) d u want to enter for player2? type y/n0\n",
      "\n",
      " Not a valid option select y / n\n",
      "over completed(max of 6 balls) d u want to enter for player2? type y/nn\n",
      "[[8, 7, 8, 8, 8, 7], [8, 7, 7, 8, 9, 0]]\n",
      "score of player1= [8, 7, 8, 8, 8, 7]\n",
      "score of player2= [8, 7, 7, 8, 9, 0]\n"
     ]
    }
   ],
   "source": [
    "\n",
    "\n",
    "def add(i):\n",
    "    l=0\n",
    "    scores=[]\n",
    "    while 1:\n",
    "        l+=1\n",
    "        if len(scores)== 6:\n",
    "            playerlist.append(scores)\n",
    "            break\n",
    "        try:\n",
    "            item=int(input('Enter the run scored by player '+str(i)+' ball '+str(l)+' : ')) \n",
    "            scores.append(item)\n",
    "\n",
    "        except ValueError:\n",
    "            print(\"Not an integer! Try again.\")\n",
    "            l-=1\n",
    "\n",
    "playerlist = []\n",
    "i=1\n",
    "add(i)\n",
    "\n",
    "while(1):\n",
    "    Y_n=input(('over completed(max of 6 balls) D u want to enter for player2? type y/n').lower())\n",
    "    if Y_n == 'y':\n",
    "        i+=1\n",
    "        add(i)\n",
    "    elif Y_n == 'n':\n",
    "        break\n",
    "    else:\n",
    "        print('\\n Not a valid option select y / n')\n",
    "print(playerlist)\n",
    "for i in range(len(playerlist)):\n",
    "    print('score of player'+ str(i+1)+ '= '+str(playerlist[i]))\n",
    "    "
   ]
  },
  {
   "cell_type": "code",
   "execution_count": null,
   "metadata": {},
   "outputs": [],
   "source": []
  }
 ],
 "metadata": {
  "kernelspec": {
   "display_name": "Python 3",
   "language": "python",
   "name": "python3"
  },
  "language_info": {
   "codemirror_mode": {
    "name": "ipython",
    "version": 3
   },
   "file_extension": ".py",
   "mimetype": "text/x-python",
   "name": "python",
   "nbconvert_exporter": "python",
   "pygments_lexer": "ipython3",
   "version": "3.7.4"
  }
 },
 "nbformat": 4,
 "nbformat_minor": 2
}
