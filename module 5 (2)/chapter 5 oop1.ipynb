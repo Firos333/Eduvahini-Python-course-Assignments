{
 "cells": [
  {
   "cell_type": "markdown",
   "metadata": {},
   "source": [
    "Graded Assignment 7\n",
    "\n",
    "OOP : 1\n",
    "\n",
    "PROBLEM STATEMENT\n",
    "\n",
    "Create a deck of cards class. Internally, the deck of cards should use another class, a card class. Your requirements are:\n",
    "\n",
    "\n",
    "\n",
    "The Deck class should have a deal method to deal a single card from the deck\n",
    "\n",
    "After a card is dealt, it is removed from the deck.\n",
    "\n",
    "There should be a shuffle method which makes sure the deck of cards has all 52 cards and then rearranges them randomly.\n",
    "\n",
    "The Card class should have a suit (Hearts, Diamonds, Clubs, Spades) and a value (A,2,3,4,5,6,7,8,9,10,J,Q,K)\n"
   ]
  },
  {
   "cell_type": "code",
   "execution_count": 9,
   "metadata": {},
   "outputs": [
    {
     "data": {
      "text/plain": [
       "Cards remaining in deck: 52"
      ]
     },
     "execution_count": 9,
     "metadata": {},
     "output_type": "execute_result"
    }
   ],
   "source": [
    "from random import shuffle\n",
    "\n",
    "class Card:\n",
    "    def __init__(self, suit, value):\n",
    "        self.suit = suit\n",
    "        self.value = value\n",
    "\n",
    "    def __repr__(self):\n",
    "        return \"{} of {}\".format(self.value, self.suit)\n",
    "\n",
    "class Deck:\n",
    "    def __init__(self):\n",
    "        suits = ['Hearts','Diamonds','Clubs','Spades'] \n",
    "        values = ['A','2','3','4','5','6','7','8','9','10','J','Q','K']\n",
    "        self.cards = [Card(suit, value) for suit in suits for value in values]\n",
    "\n",
    "    def __repr__(self):\n",
    "        return \"Cards remaining in deck: {}\".format(len(self.cards))\n",
    "\n",
    "    def shuffle(self):\n",
    "        if len(self.cards) < 52:\n",
    "            raise ValueError(\"Only full decks can be shuffled\")\n",
    "        shuffle(self.cards)\n",
    "        return self\n",
    "\n",
    "    def deal(self):\n",
    "        if len(self.cards) == 0:\n",
    "            raise ValueError(\"All cards have been dealt\")\n",
    "        return self.cards.pop()"
   ]
  },
  {
   "cell_type": "markdown",
   "metadata": {},
   "source": [
    "Graded Assignment 8\n",
    "\n",
    "OOP : 2\n",
    "\n",
    "PROBLEM STATEMENT\n",
    "\n",
    "Create a bike rental shop system in which:\n",
    "\n",
    "Customers can\n",
    "\n",
    "See available bikes on the shop\n",
    "\n",
    "Rent bikes on an hourly basis $5 per hour.\n",
    "\n",
    "Rent bikes on a daily basis $20 per day.\n",
    "\n",
    "Rent bikes on a weekly basis $60 per week.\n",
    "\n",
    "\n",
    "The bike rental shop can\n",
    "\n",
    "Issue a bill when the customer decides to return the bike.\n",
    "\n",
    "display available inventory\n",
    "\n",
    "take requests on hourly, daily and weekly basis by cross verifying stock\n"
   ]
  },
  {
   "cell_type": "code",
   "execution_count": 11,
   "metadata": {},
   "outputs": [
    {
     "name": "stdout",
     "output_type": "stream",
     "text": [
      "Enter a number for list 1:4\n",
      "Enter a number for list 1:5\n",
      "Enter a number for list 1:6\n",
      "Enter a number for list 1:7\n",
      "Enter a number for list 1:8\n",
      "Enter a number for list 2:8\n",
      "Enter a number for list 2:7\n",
      "Enter a number for list 2:6\n",
      "Enter a number for list 2:5\n",
      "Enter a number for list 2:4\n",
      "Yes\n"
     ]
    }
   ],
   "source": [
    "i=0\n",
    "list1=[]\n",
    "list2=[]\n",
    "\n",
    "def common_member(a, b): \n",
    "    a_set = set(a) \n",
    "    b_set = set(b) \n",
    "  \n",
    "    if (a_set.intersection(b_set)): \n",
    "        if a_set==b_set:\n",
    "            print('Yes')\n",
    "        else:\n",
    "            print(\"No\") \n",
    "\n",
    "        \n",
    "while True:\n",
    "    try:\n",
    "        userInput = int(input('Enter a number for list 1:'))\n",
    "        list1.append(userInput)\n",
    "        i+=1\n",
    "        if i==5:\n",
    "            break    \n",
    "    except ValueError:\n",
    "        print(\"Not an integer! Try again.\")\n",
    "        continue\n",
    "i=0\n",
    "while True:\n",
    "    try:\n",
    "        userInput = int(input('Enter a number for list 2:'))\n",
    "        list2.append(userInput)\n",
    "        i+=1\n",
    "        if i==5:\n",
    "            break    \n",
    "    except ValueError:\n",
    "        print(\"Not an integer! Try again.\")\n",
    "        continue\n",
    "\n",
    "common_member(list1,list2)"
   ]
  },
  {
   "cell_type": "code",
   "execution_count": 13,
   "metadata": {},
   "outputs": [
    {
     "name": "stdout",
     "output_type": "stream",
     "text": [
      "Enter a number for list 1:4\n",
      "Enter a number for list 1:5\n",
      "Enter a number for list 1:4\n",
      "Enter a number for list 1:5\n",
      "Enter a number for list 1:6\n",
      "Enter a number for list 2:5\n",
      "Enter a number for list 2:4\n",
      "Enter a number for list 2:5\n",
      "Enter a number for list 2:4\n",
      "Enter a number for list 2:6\n",
      "Yes\n"
     ]
    }
   ],
   "source": [
    "i=0\n",
    "list1=[]\n",
    "list2=[]\n",
    "\n",
    "def common_member(a, b): \n",
    "    a_set = set(a) \n",
    "    b_set = set(b) \n",
    "  \n",
    "    if (a_set.intersection(b_set)): \n",
    "        if a_set==b_set:\n",
    "            print('Yes')\n",
    "        else:\n",
    "            print(\"No\") \n",
    "\n",
    "        \n",
    "while True:\n",
    "    try:\n",
    "        userInput = int(input('Enter a number for list 1:'))\n",
    "        list1.append(userInput)\n",
    "        i+=1\n",
    "        if i==5:\n",
    "            break    \n",
    "    except ValueError:\n",
    "        print(\"Not an integer! Try again.\")\n",
    "        continue\n",
    "i=0\n",
    "while True:\n",
    "    try:\n",
    "        userInput = int(input('Enter a number for list 2:'))\n",
    "        list2.append(userInput)\n",
    "        i+=1\n",
    "        if i==5:\n",
    "            break    \n",
    "    except ValueError:\n",
    "        print(\"Not an integer! Try again.\")\n",
    "        continue\n",
    "\n",
    "common_member(list1,list2)"
   ]
  },
  {
   "cell_type": "code",
   "execution_count": null,
   "metadata": {},
   "outputs": [],
   "source": []
  }
 ],
 "metadata": {
  "kernelspec": {
   "display_name": "Python 3",
   "language": "python",
   "name": "python3"
  },
  "language_info": {
   "codemirror_mode": {
    "name": "ipython",
    "version": 3
   },
   "file_extension": ".py",
   "mimetype": "text/x-python",
   "name": "python",
   "nbconvert_exporter": "python",
   "pygments_lexer": "ipython3",
   "version": "3.7.4"
  }
 },
 "nbformat": 4,
 "nbformat_minor": 2
}
